{
 "cells": [
  {
   "cell_type": "markdown",
   "id": "91709839-0917-4c09-9f8e-1ae2322d083f",
   "metadata": {},
   "source": [
    "# Introducing Lists"
   ]
  },
  {
   "cell_type": "markdown",
   "id": "9ec51002-55e3-4932-85f4-8c595ca4fbe6",
   "metadata": {},
   "source": [
    "## What is a List?"
   ]
  },
  {
   "cell_type": "code",
   "execution_count": 3,
   "id": "08fb75f2-4ce6-4d59-a93a-c00f820ba216",
   "metadata": {},
   "outputs": [
    {
     "data": {
      "text/plain": [
       "['trek', 'cannondale', 'redline', 'specialized']"
      ]
     },
     "execution_count": 3,
     "metadata": {},
     "output_type": "execute_result"
    }
   ],
   "source": [
    "# bicycles.py\n",
    "bicycles = ['trek', 'cannondale', 'redline', 'specialized']\n",
    "bicycles"
   ]
  },
  {
   "cell_type": "markdown",
   "id": "8a7089ba-d735-42cd-be4a-be87615c7911",
   "metadata": {},
   "source": [
    "### Accessing Elements in a List"
   ]
  },
  {
   "cell_type": "code",
   "execution_count": 5,
   "id": "a205896b-8111-4a3b-a8f6-4e20c610e210",
   "metadata": {},
   "outputs": [
    {
     "data": {
      "text/plain": [
       "'trek'"
      ]
     },
     "execution_count": 5,
     "metadata": {},
     "output_type": "execute_result"
    }
   ],
   "source": [
    "bicycles[0]"
   ]
  },
  {
   "cell_type": "code",
   "execution_count": 6,
   "id": "1a1b497e-8d8c-4a9c-9fc6-1cc4917dbf47",
   "metadata": {},
   "outputs": [
    {
     "data": {
      "text/plain": [
       "'Trek'"
      ]
     },
     "execution_count": 6,
     "metadata": {},
     "output_type": "execute_result"
    }
   ],
   "source": [
    "bicycles[0].title()"
   ]
  },
  {
   "cell_type": "markdown",
   "id": "7b623373-19ae-48a9-90dd-82514473e6fd",
   "metadata": {},
   "source": [
    "### Index Positions Start at 0, Not 1"
   ]
  },
  {
   "cell_type": "markdown",
   "id": "ba53dda7-a2af-47e1-97b6-393f95126b29",
   "metadata": {},
   "source": [
    "### Using Individual Values from a List"
   ]
  },
  {
   "cell_type": "markdown",
   "id": "f52636f1-a62f-4b7b-8c32-50a19957d737",
   "metadata": {},
   "source": [
    "## Modifying, Adding and Removing Elements"
   ]
  },
  {
   "cell_type": "markdown",
   "id": "984637e5-7e57-44ef-9486-7efb6b715385",
   "metadata": {},
   "source": [
    "## Organizing a List"
   ]
  },
  {
   "cell_type": "markdown",
   "id": "d5e460e1-975d-4b43-80b0-0b01b4146aa4",
   "metadata": {},
   "source": [
    "## Avoiding Index Errors When Working with Lists"
   ]
  }
 ],
 "metadata": {
  "kernelspec": {
   "display_name": "Python 3 (ipykernel)",
   "language": "python",
   "name": "python3"
  },
  "language_info": {
   "codemirror_mode": {
    "name": "ipython",
    "version": 3
   },
   "file_extension": ".py",
   "mimetype": "text/x-python",
   "name": "python",
   "nbconvert_exporter": "python",
   "pygments_lexer": "ipython3",
   "version": "3.8.15"
  }
 },
 "nbformat": 4,
 "nbformat_minor": 5
}
